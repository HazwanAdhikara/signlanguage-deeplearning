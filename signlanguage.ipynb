{
 "cells": [
  {
   "cell_type": "markdown",
   "id": "19fbcad7",
   "metadata": {},
   "source": [
    "written by Zwaneee"
   ]
  },
  {
   "cell_type": "markdown",
   "id": "8862581b",
   "metadata": {},
   "source": []
  }
 ],
 "metadata": {
  "language_info": {
   "name": "python"
  }
 },
 "nbformat": 4,
 "nbformat_minor": 5
}
